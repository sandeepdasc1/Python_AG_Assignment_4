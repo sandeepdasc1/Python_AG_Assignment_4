{
 "cells": [
  {
   "cell_type": "code",
   "execution_count": 3,
   "metadata": {},
   "outputs": [],
   "source": [
    "#Task 1.1\n",
    "#Given a sequence of n values x1, x2, ..., xn and a window size k>0, the k-th moving average of the given sequence \n",
    "#is defined as follows: \n",
    "#The moving average sequence has n-k+1 elements as shown below.\n",
    "#The moving averages with k=4 of a ten-value sequence (n=10) is shown below\n",
    "#i 1 2 3 4 5 6 7 8 9 10\n",
    "#===== == == == == == == == == == ==\n",
    "#Input 10 20 30 40 50 60 70 80 90 100\n",
    "#y1 25 = (10+20+30+40)/4\n",
    "#y2 35 = (20+30+40+50)/4\n",
    "#y3 45 = (30+40+50+60)/4\n",
    "#y4 55 = (40+50+60+70)/4\n",
    "#y5 65 = (50+60+70+80)/4\n",
    "#y6 75 = (60+70+80+90)/4\n",
    "#y7 85 = (70+80+90+100)/4\n",
    "\n",
    "#Thus, the moving average sequence has n-k+1=10-4+1=7 values."
   ]
  },
  {
   "cell_type": "code",
   "execution_count": 1,
   "metadata": {},
   "outputs": [],
   "source": [
    "import numpy as np\n",
    "import matplotlib.pyplot as plt\n",
    "from numpy import convolve"
   ]
  },
  {
   "cell_type": "code",
   "execution_count": 10,
   "metadata": {},
   "outputs": [],
   "source": [
    "def movingaverage (val, window):\n",
    "    weights = np.repeat(1.0, window)/window\n",
    "    sma = np.convolve(val, weights, 'valid')\n",
    "    return sma"
   ]
  },
  {
   "cell_type": "code",
   "execution_count": 11,
   "metadata": {},
   "outputs": [
    {
     "name": "stdout",
     "output_type": "stream",
     "text": [
      "[  5.           4.66666667   5.66666667   6.66666667   9.66666667\n",
      "  28.66666667  49.33333333  72.66666667  84.          93.33333333\n",
      " 116.33333333]\n"
     ]
    }
   ],
   "source": [
    "y = [3, 5, 7, 2, 8, 10, 11, 65, 72, 81, 99, 100, 150]\n",
    "yMA = movingaverage(y,3)\n",
    "print (yMA)"
   ]
  },
  {
   "cell_type": "code",
   "execution_count": null,
   "metadata": {},
   "outputs": [],
   "source": [
    "# Task 2.1\n",
    "#Task 2:\n",
    "1.\n",
    "#How-to-count-distance-to-the-previous-zero\n",
    "#For each value, count the difference back to the previous zero (or the start of the Series, whichever is closer)\n",
    "#create a new column 'Y' ,Consider a DataFrame df where there is an integer column 'X'\n",
    "#import pandas as pd\n",
    "#df = pd.DataFrame({'X': [7, 2, 0, 3, 4, 2, 5, 0, 3, 4]})"
   ]
  },
  {
   "cell_type": "code",
   "execution_count": 15,
   "metadata": {},
   "outputs": [
    {
     "name": "stdout",
     "output_type": "stream",
     "text": [
      "   source  result\n",
      "0       7       1\n",
      "1       2       2\n",
      "2       0       0\n",
      "3       3       1\n",
      "4       4       2\n",
      "5       2       3\n",
      "6       5       4\n",
      "7       0       0\n",
      "8       3       1\n",
      "9       4       2\n"
     ]
    }
   ],
   "source": [
    "import pandas as pd\n",
    "X = [7, 2, 0, 3, 4, 2, 5, 0, 3, 4]\n",
    "i = 0\n",
    "r = []\n",
    "\n",
    "for num in X:\n",
    "    if num != 0:\n",
    "        i += 1\n",
    "    else:\n",
    "        i = 0\n",
    "    r.append(i)\n",
    "    \n",
    "    \n",
    "result_df = pd.DataFrame({\"source\":l,\"result\":r})\n",
    "\n",
    "print(result_df)"
   ]
  },
  {
   "cell_type": "code",
   "execution_count": null,
   "metadata": {},
   "outputs": [],
   "source": [
    "#Task2.2\n",
    "#Create a DatetimeIndex that contains each business day of 2015 and use it to index a Series of random numbers."
   ]
  },
  {
   "cell_type": "code",
   "execution_count": 24,
   "metadata": {},
   "outputs": [
    {
     "name": "stdout",
     "output_type": "stream",
     "text": [
      "2015-01-01    0.214368\n",
      "2015-01-02    0.423726\n",
      "2015-01-03    0.778512\n",
      "2015-01-04    0.035167\n",
      "2015-01-05    0.989689\n",
      "2015-01-06    0.286768\n",
      "2015-01-07    0.665444\n",
      "2015-01-08    0.427070\n",
      "2015-01-09    0.980701\n",
      "2015-01-10    0.702101\n",
      "2015-01-11    0.104496\n",
      "2015-01-12    0.811214\n",
      "2015-01-13    0.361361\n",
      "2015-01-14    0.905648\n",
      "2015-01-15    0.454421\n",
      "2015-01-16    0.794018\n",
      "2015-01-17    0.706993\n",
      "2015-01-18    0.613353\n",
      "2015-01-19    0.735450\n",
      "2015-01-20    0.561738\n",
      "2015-01-21    0.275224\n",
      "2015-01-22    0.013974\n",
      "2015-01-23    0.062670\n",
      "2015-01-24    0.436988\n",
      "2015-01-25    0.214028\n",
      "2015-01-26    0.277613\n",
      "2015-01-27    0.490795\n",
      "2015-01-28    0.263492\n",
      "2015-01-29    0.546740\n",
      "2015-01-30    0.464732\n",
      "                ...   \n",
      "2015-12-02    0.396996\n",
      "2015-12-03    0.420422\n",
      "2015-12-04    0.394057\n",
      "2015-12-05    0.597223\n",
      "2015-12-06    0.785236\n",
      "2015-12-07    0.902596\n",
      "2015-12-08    0.438761\n",
      "2015-12-09    0.495889\n",
      "2015-12-10    0.127731\n",
      "2015-12-11    0.982311\n",
      "2015-12-12    0.661518\n",
      "2015-12-13    0.326996\n",
      "2015-12-14    0.271482\n",
      "2015-12-15    0.834240\n",
      "2015-12-16    0.327874\n",
      "2015-12-17    0.120570\n",
      "2015-12-18    0.428973\n",
      "2015-12-19    0.437687\n",
      "2015-12-20    0.290834\n",
      "2015-12-21    0.946507\n",
      "2015-12-22    0.756396\n",
      "2015-12-23    0.851801\n",
      "2015-12-24    0.941139\n",
      "2015-12-25    0.582388\n",
      "2015-12-26    0.448187\n",
      "2015-12-27    0.987241\n",
      "2015-12-28    0.318786\n",
      "2015-12-29    0.744448\n",
      "2015-12-30    0.170407\n",
      "2015-12-31    0.816831\n",
      "Freq: D, Length: 365, dtype: float64\n"
     ]
    }
   ],
   "source": [
    "dti  =  pd.date_range(start='2015-01-01', end='2015-12-31', freq='D') \n",
    "s = pd.Series(np.random.rand(len(dti)), index=dti)\n",
    "print(s)"
   ]
  },
  {
   "cell_type": "code",
   "execution_count": null,
   "metadata": {},
   "outputs": [],
   "source": [
    "#Task 2.3 \n",
    "#Find the sum of the values in s for every Wednesday"
   ]
  },
  {
   "cell_type": "code",
   "execution_count": 25,
   "metadata": {},
   "outputs": [
    {
     "data": {
      "text/plain": [
       "24.776328137102887"
      ]
     },
     "execution_count": 25,
     "metadata": {},
     "output_type": "execute_result"
    }
   ],
   "source": [
    "s[s.index.weekday == 2].sum()"
   ]
  },
  {
   "cell_type": "code",
   "execution_count": 29,
   "metadata": {},
   "outputs": [
    {
     "data": {
      "text/plain": [
       "2015-01-31    0.493644\n",
       "2015-02-28    0.574988\n",
       "2015-03-31    0.447854\n",
       "2015-04-30    0.539798\n",
       "2015-05-31    0.517265\n",
       "2015-06-30    0.485905\n",
       "2015-07-31    0.410438\n",
       "2015-08-31    0.454528\n",
       "2015-09-30    0.500623\n",
       "2015-10-31    0.527264\n",
       "2015-11-30    0.372757\n",
       "2015-12-31    0.559782\n",
       "Freq: M, dtype: float64"
      ]
     },
     "execution_count": 29,
     "metadata": {},
     "output_type": "execute_result"
    }
   ],
   "source": [
    "s.resample('M').mean()"
   ]
  },
  {
   "cell_type": "code",
   "execution_count": 30,
   "metadata": {},
   "outputs": [
    {
     "name": "stderr",
     "output_type": "stream",
     "text": [
      "C:\\Users\\sande\\Anaconda3\\lib\\site-packages\\ipykernel_launcher.py:1: FutureWarning: pd.TimeGrouper is deprecated and will be removed; Please use pd.Grouper(freq=...)\n",
      "  \"\"\"Entry point for launching an IPython kernel.\n"
     ]
    },
    {
     "data": {
      "text/plain": [
       "2015-01-31   2015-01-05\n",
       "2015-05-31   2015-05-07\n",
       "2015-09-30   2015-09-08\n",
       "2016-01-31   2015-10-29\n",
       "dtype: datetime64[ns]"
      ]
     },
     "execution_count": 30,
     "metadata": {},
     "output_type": "execute_result"
    }
   ],
   "source": [
    "s.groupby(pd.TimeGrouper('4M')).idxmax()"
   ]
  },
  {
   "cell_type": "code",
   "execution_count": null,
   "metadata": {},
   "outputs": [],
   "source": []
  }
 ],
 "metadata": {
  "kernelspec": {
   "display_name": "Python 3",
   "language": "python",
   "name": "python3"
  },
  "language_info": {
   "codemirror_mode": {
    "name": "ipython",
    "version": 3
   },
   "file_extension": ".py",
   "mimetype": "text/x-python",
   "name": "python",
   "nbconvert_exporter": "python",
   "pygments_lexer": "ipython3",
   "version": "3.6.5"
  }
 },
 "nbformat": 4,
 "nbformat_minor": 2
}
